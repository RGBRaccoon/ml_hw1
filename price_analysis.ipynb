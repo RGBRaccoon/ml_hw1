{
 "cells": [
  {
   "cell_type": "code",
   "execution_count": null,
   "metadata": {},
   "outputs": [],
   "source": [
    "'''\n",
    "+------------------+--------------------------------------------------------------+\n",
    "│ Column Name      │ Description                                                  │\n",
    "│------------------│--------------------------------------------------------------│\n",
    "+------------------+--------------------------------------------------------------+\n",
    "│ Year             | Reference Year                                               |\n",
    "| Month            | Reference Month                                              │\n",
    "│ GEO              │ Geographic region (encoded as Province 1, Province 2, etc.)  │\n",
    "│ Products         │ Name of the retail product                                   │\n",
    "│ COORDINATE       │ Internal coordinate identifier for product                   │\n",
    "│ VALUE            │ Original product price per unit (before tax)                 │\n",
    "│ UOM              │ Unit of measure (e.g., Dollars)                              │\n",
    "│ Taxable          │ 'Yes' if the product is subject to tax, 'No' otherwise       │\n",
    "│ Total tax rate   │ Total tax rate (%) based on province or average for 'Canada' │\n",
    "│ Value after tax  │ Price after tax if taxable, else same as VALUE               │\n",
    "│ Product Category │ High-level category assigned to the product                  │\n",
    "│ Essential        │ 'Essential' for basic needs or 'Non-Essential'               │\n",
    "+------------------+--------------------------------------------------------------+\n",
    "'''"
   ]
  },
  {
   "cell_type": "code",
   "execution_count": 1,
   "metadata": {},
   "outputs": [],
   "source": [
    "import numpy as np\n",
    "import pandas as pd"
   ]
  },
  {
   "cell_type": "code",
   "execution_count": 2,
   "metadata": {},
   "outputs": [],
   "source": [
    "DATA_PATH = 'data\\\\Retail_Prices_of _Products.csv'"
   ]
  },
  {
   "cell_type": "code",
   "execution_count": null,
   "metadata": {},
   "outputs": [],
   "source": [
    "data= pd.read_csv(DATA_PATH)\n",
    "# data"
   ]
  },
  {
   "cell_type": "code",
   "execution_count": 5,
   "metadata": {},
   "outputs": [],
   "source": [
    "#반응 변수는 Value after tax으로 하고, 다른것들중에 설명변수\n",
    "#각 품목을 기준으로, 시간대별 정렬. 그다음에 분석"
   ]
  },
  {
   "cell_type": "code",
   "execution_count": null,
   "metadata": {},
   "outputs": [],
   "source": [
    "#각 변수별 기본 통계랑. 평균, 분산. 범주형의 경우, 범주별 비율\n",
    "\n"
   ]
  },
  {
   "cell_type": "code",
   "execution_count": null,
   "metadata": {},
   "outputs": [],
   "source": [
    "#설명변수와 반응변수간의 산점도"
   ]
  },
  {
   "cell_type": "code",
   "execution_count": null,
   "metadata": {},
   "outputs": [],
   "source": [
    "#데이터 전처리\n",
    "#년도와 월을 합쳐서 시계열 데이터로 변환\n",
    "da\n",
    "\n"
   ]
  }
 ],
 "metadata": {
  "kernelspec": {
   "display_name": "ai",
   "language": "python",
   "name": "python3"
  },
  "language_info": {
   "codemirror_mode": {
    "name": "ipython",
    "version": 3
   },
   "file_extension": ".py",
   "mimetype": "text/x-python",
   "name": "python",
   "nbconvert_exporter": "python",
   "pygments_lexer": "ipython3",
   "version": "3.11.11"
  }
 },
 "nbformat": 4,
 "nbformat_minor": 2
}
